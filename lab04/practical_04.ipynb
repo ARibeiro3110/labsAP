{
 "cells": [
  {
   "cell_type": "markdown",
   "metadata": {},
   "source": [
    "# Multilayer Perceptron and Backpropagation"
   ]
  },
  {
   "cell_type": "code",
   "execution_count": 1,
   "metadata": {},
   "outputs": [],
   "source": [
    "import numpy as np\n",
    "import matplotlib.pyplot as plt\n",
    "\n",
    "%matplotlib inline"
   ]
  },
  {
   "cell_type": "markdown",
   "metadata": {},
   "source": [
    "## Question 1 \n",
    "\n",
    "Consider the neural network considered in the first question of the theoretical component of the practical class, with number of units: 4,4,3,3.\n",
    "\n",
    "![](https://drive.google.com/uc?id=1SHUgdosKp6AX8rRAACCZ5nb4kUXreI3g)\n",
    "\n",
    "Assume all units, except the ones in the output layer, use the hyperbolic tangent activation function. \n",
    "\n",
    "Consider the following training example:\n",
    "\n",
    "$\\mathbf{x} =\\begin{bmatrix} 1, 0, 1, 0 \\end{bmatrix}^\\intercal $,   $\\mathbf{y} =\\begin{bmatrix} 0\\\\ 1\\\\ 0 \\end{bmatrix}$\n",
    "\n",
    "❓ Using the squared error loss do a stochastic gradient descent update, initializing all connection weights and biases to 0.1 and a  learning rate η = 0.1:\n",
    "\n",
    "1. Perform the forward pass\n",
    "2. Compute the loss\n",
    "3. Compute gradients with backpropagation\n",
    "4. Update weights"
   ]
  },
  {
   "cell_type": "code",
   "execution_count": 2,
   "metadata": {},
   "outputs": [
    {
     "name": "stdout",
     "output_type": "stream",
     "text": [
      "W[1]:\n",
      " [[0.1 0.1 0.1 0.1]\n",
      " [0.1 0.1 0.1 0.1]\n",
      " [0.1 0.1 0.1 0.1]\n",
      " [0.1 0.1 0.1 0.1]]\n",
      "b[1]:\n",
      " [0.1 0.1 0.1 0.1]\n",
      "W[2]:\n",
      " [[0.1 0.1 0.1 0.1]\n",
      " [0.1 0.1 0.1 0.1]\n",
      " [0.1 0.1 0.1 0.1]]\n",
      "b[2]:\n",
      " [0.1 0.1 0.1]\n",
      "W[3]:\n",
      " [[0.1 0.1 0.1]\n",
      " [0.1 0.1 0.1]\n",
      " [0.1 0.1 0.1]]\n",
      "b[3]:\n",
      " [0.1 0.1 0.1]\n"
     ]
    }
   ],
   "source": [
    "inputs = np.array([[1, 0, 1, 0]])\n",
    "labels = np.array([[0, 1, 0]])\n",
    "\n",
    "# First is input size, last is output size.\n",
    "units = [4, 4, 3, 3]\n",
    "L = len(units) - 1\n",
    "\n",
    "# Initialize weights with correct shapes\n",
    "W = [None]\n",
    "b = [None]\n",
    "\n",
    "for l in range(1, L+1):\n",
    "    W.append(np.ones((units[l], units[l-1])) * 0.1)\n",
    "    print(f\"W[{l}]:\\n\", W[l])\n",
    "    b.append(np.ones((units[l])) * 0.1)\n",
    "    print(f\"b[{l}]:\\n\", b[l])"
   ]
  },
  {
   "cell_type": "code",
   "execution_count": 3,
   "metadata": {},
   "outputs": [
    {
     "name": "stdout",
     "output_type": "stream",
     "text": [
      "h[0] (4,):\n",
      " [1 0 1 0]\n",
      "z[1] (4,):\n",
      " [0.3 0.3 0.3 0.3]\n",
      "h[1] (4,):\n",
      " [0.29131261 0.29131261 0.29131261 0.29131261]\n",
      "z[2] (3,):\n",
      " [0.21652504 0.21652504 0.21652504]\n",
      "h[2] (3,):\n",
      " [0.21320353 0.21320353 0.21320353]\n",
      "z[3] (3,):\n",
      " [0.16396106 0.16396106 0.16396106]\n"
     ]
    }
   ],
   "source": [
    "# Forward Pass\n",
    "z = [None]\n",
    "h = [inputs[0]]\n",
    "print(f\"h[0] {h[0].shape}:\\n\", h[0])\n",
    "\n",
    "for l in range(1, len(units)):\n",
    "    z.append(W[l] @ h[l-1] + b[l])\n",
    "    print(f\"z[{l}] {z[l].shape}:\\n\", z[l])\n",
    "\n",
    "    if l == L:\n",
    "        break\n",
    "\n",
    "    h.append(np.tanh(z[l]))\n",
    "    print(f\"h[{l}] {h[l].shape}:\\n\", h[l])\n",
    "\n",
    "y_hat = z[L]\n",
    "y = labels[0]"
   ]
  },
  {
   "cell_type": "code",
   "execution_count": 4,
   "metadata": {},
   "outputs": [
    {
     "name": "stdout",
     "output_type": "stream",
     "text": [
      "Loss: 0.37636378397755565\n"
     ]
    }
   ],
   "source": [
    "# Loss\n",
    "loss = (1/2) * (y_hat - y) @ (y_hat - y)\n",
    "print(f\"Loss: {loss}\")"
   ]
  },
  {
   "cell_type": "code",
   "execution_count": 5,
   "metadata": {},
   "outputs": [
    {
     "name": "stdout",
     "output_type": "stream",
     "text": [
      "dL/dz[3] (3,):\n",
      " [ 0.16396106 -0.83603894  0.16396106]\n",
      "dL/dW[3] (3, 3):\n",
      " [[ 0.03495708  0.03495708  0.03495708]\n",
      " [-0.17824646 -0.17824646 -0.17824646]\n",
      " [ 0.03495708  0.03495708  0.03495708]]\n",
      "dL/db[3] (3,):\n",
      " [ 0.16396106 -0.83603894  0.16396106]\n",
      "dL/dh[2] (3,):\n",
      " [-0.05081168 -0.05081168 -0.05081168]\n",
      "dL/dz[2] (3,):\n",
      " [-0.048502 -0.048502 -0.048502]\n",
      "dL/dW[2] (3, 4):\n",
      " [[-0.01412924 -0.01412924 -0.01412924 -0.01412924]\n",
      " [-0.01412924 -0.01412924 -0.01412924 -0.01412924]\n",
      " [-0.01412924 -0.01412924 -0.01412924 -0.01412924]]\n",
      "dL/db[2] (3,):\n",
      " [-0.048502 -0.048502 -0.048502]\n",
      "dL/dh[1] (4,):\n",
      " [-0.0145506 -0.0145506 -0.0145506 -0.0145506]\n",
      "dL/dz[1] (4,):\n",
      " [-0.01331579 -0.01331579 -0.01331579 -0.01331579]\n",
      "dL/dW[1] (4, 4):\n",
      " [[-0.01331579 -0.         -0.01331579 -0.        ]\n",
      " [-0.01331579 -0.         -0.01331579 -0.        ]\n",
      " [-0.01331579 -0.         -0.01331579 -0.        ]\n",
      " [-0.01331579 -0.         -0.01331579 -0.        ]]\n",
      "dL/db[1] (4,):\n",
      " [-0.01331579 -0.01331579 -0.01331579 -0.01331579]\n"
     ]
    }
   ],
   "source": [
    "# Backpropagation\n",
    "dL_dz = [None] * (L+1)\n",
    "dL_dW = [None] * (L+1)\n",
    "dL_db = [None] * (L+1)\n",
    "dL_dh = [None] * L\n",
    "\n",
    "for l in range(L, 0, -1):\n",
    "    if l == L:\n",
    "        dL_dz[L] = y_hat - y\n",
    "    \n",
    "    else:\n",
    "        dL_dh[l] = W[l+1].T @ dL_dz[l+1]\n",
    "        print(f\"dL/dh[{l}] {dL_dh[l].shape}:\\n\", dL_dh[l])\n",
    "\n",
    "        dL_dz[l] = dL_dh[l] * (1 - h[l]**2)\n",
    "    print(f\"dL/dz[{l}] {dL_dz[l].shape}:\\n\", dL_dz[l])\n",
    "\n",
    "    dL_dW[l] = np.outer(dL_dz[l], h[l-1])\n",
    "    print(f\"dL/dW[{l}] {dL_dW[l].shape}:\\n\", dL_dW[l])\n",
    "\n",
    "    dL_db[l] = dL_dz[l]\n",
    "    print(f\"dL/db[{l}] {dL_db[l].shape}:\\n\", dL_db[l])"
   ]
  },
  {
   "cell_type": "code",
   "execution_count": 6,
   "metadata": {},
   "outputs": [
    {
     "name": "stdout",
     "output_type": "stream",
     "text": [
      "W[1]:\n",
      " [[0.10133158 0.1        0.10133158 0.1       ]\n",
      " [0.10133158 0.1        0.10133158 0.1       ]\n",
      " [0.10133158 0.1        0.10133158 0.1       ]\n",
      " [0.10133158 0.1        0.10133158 0.1       ]]\n",
      "b[1]:\n",
      " [0.10133158 0.10133158 0.10133158 0.10133158]\n",
      "W[2]:\n",
      " [[0.10141292 0.10141292 0.10141292 0.10141292]\n",
      " [0.10141292 0.10141292 0.10141292 0.10141292]\n",
      " [0.10141292 0.10141292 0.10141292 0.10141292]]\n",
      "b[2]:\n",
      " [0.1048502 0.1048502 0.1048502]\n",
      "W[3]:\n",
      " [[0.09650429 0.09650429 0.09650429]\n",
      " [0.11782465 0.11782465 0.11782465]\n",
      " [0.09650429 0.09650429 0.09650429]]\n",
      "b[3]:\n",
      " [0.08360389 0.18360389 0.08360389]\n"
     ]
    }
   ],
   "source": [
    "# Update Gradients\n",
    "eta = 0.1\n",
    "for l in range(1, L+1):\n",
    "    W[l] -= eta * dL_dW[l]\n",
    "    print(f\"W[{l}]:\\n\", W[l])\n",
    "\n",
    "    b[l] -= eta * dL_db[l]\n",
    "    print(f\"b[{l}]:\\n\", b[l])"
   ]
  },
  {
   "cell_type": "markdown",
   "metadata": {},
   "source": [
    "❓ Let's say we were using the same training example but with the following changes:\n",
    "- The output units have a softmax activation function\n",
    "- The error function is cross-entropy\n",
    "\n",
    "Keeping the same initializations and learning rate, adjust your computations to the new changes."
   ]
  },
  {
   "cell_type": "markdown",
   "metadata": {},
   "source": [
    "**Solution:** We need only to change:  \n",
    "- the output, *i.e.*, $\\hat{y} = softmax(z_3)$ instead of $\\hat{y} = z_3$\n",
    "- the loss computation to $L = -y.log(\\hat{y})$\n",
    "- the gradient of the loss with respect to $z_3$: $\\frac{dL}{dz_3}$\n",
    "\n",
    "All other steps remain unchanged."
   ]
  },
  {
   "cell_type": "code",
   "execution_count": 7,
   "metadata": {},
   "outputs": [
    {
     "name": "stdout",
     "output_type": "stream",
     "text": [
      "W[1]:\n",
      " [[0.1 0.1 0.1 0.1]\n",
      " [0.1 0.1 0.1 0.1]\n",
      " [0.1 0.1 0.1 0.1]\n",
      " [0.1 0.1 0.1 0.1]]\n",
      "b[1]:\n",
      " [0.1 0.1 0.1 0.1]\n",
      "W[2]:\n",
      " [[0.1 0.1 0.1 0.1]\n",
      " [0.1 0.1 0.1 0.1]\n",
      " [0.1 0.1 0.1 0.1]]\n",
      "b[2]:\n",
      " [0.1 0.1 0.1]\n",
      "W[3]:\n",
      " [[0.1 0.1 0.1]\n",
      " [0.1 0.1 0.1]\n",
      " [0.1 0.1 0.1]]\n",
      "b[3]:\n",
      " [0.1 0.1 0.1]\n",
      "h[0] (4,):\n",
      " [1 0 1 0]\n",
      "z[1] (4,):\n",
      " [0.3 0.3 0.3 0.3]\n",
      "h[1] (4,):\n",
      " [0.29131261 0.29131261 0.29131261 0.29131261]\n",
      "z[2] (3,):\n",
      " [0.21652504 0.21652504 0.21652504]\n",
      "h[2] (3,):\n",
      " [0.21320353 0.21320353 0.21320353]\n",
      "z[3] (3,):\n",
      " [0.16396106 0.16396106 0.16396106]\n",
      "Loss: 1.0986122886681098\n",
      "dL/dz[3] (3,):\n",
      " [ 0.33333333 -0.66666667  0.33333333]\n",
      "dL/dW[3] (3, 3):\n",
      " [[ 0.07106784  0.07106784  0.07106784]\n",
      " [-0.14213569 -0.14213569 -0.14213569]\n",
      " [ 0.07106784  0.07106784  0.07106784]]\n",
      "dL/db[3] (3,):\n",
      " [ 0.33333333 -0.66666667  0.33333333]\n",
      "dL/dh[2] (3,):\n",
      " [-1.38777878e-17 -1.38777878e-17 -1.38777878e-17]\n",
      "dL/dz[2] (3,):\n",
      " [-1.32469626e-17 -1.32469626e-17 -1.32469626e-17]\n",
      "dL/dW[2] (3, 4):\n",
      " [[-3.85900728e-18 -3.85900728e-18 -3.85900728e-18 -3.85900728e-18]\n",
      " [-3.85900728e-18 -3.85900728e-18 -3.85900728e-18 -3.85900728e-18]\n",
      " [-3.85900728e-18 -3.85900728e-18 -3.85900728e-18 -3.85900728e-18]]\n",
      "dL/db[2] (3,):\n",
      " [-1.32469626e-17 -1.32469626e-17 -1.32469626e-17]\n",
      "dL/dh[1] (4,):\n",
      " [-3.97408878e-18 -3.97408878e-18 -3.97408878e-18 -3.97408878e-18]\n",
      "dL/dz[1] (4,):\n",
      " [-3.63683553e-18 -3.63683553e-18 -3.63683553e-18 -3.63683553e-18]\n",
      "dL/dW[1] (4, 4):\n",
      " [[-3.63683553e-18 -0.00000000e+00 -3.63683553e-18 -0.00000000e+00]\n",
      " [-3.63683553e-18 -0.00000000e+00 -3.63683553e-18 -0.00000000e+00]\n",
      " [-3.63683553e-18 -0.00000000e+00 -3.63683553e-18 -0.00000000e+00]\n",
      " [-3.63683553e-18 -0.00000000e+00 -3.63683553e-18 -0.00000000e+00]]\n",
      "dL/db[1] (4,):\n",
      " [-3.63683553e-18 -3.63683553e-18 -3.63683553e-18 -3.63683553e-18]\n",
      "W[1]:\n",
      " [[0.1 0.1 0.1 0.1]\n",
      " [0.1 0.1 0.1 0.1]\n",
      " [0.1 0.1 0.1 0.1]\n",
      " [0.1 0.1 0.1 0.1]]\n",
      "b[1]:\n",
      " [0.1 0.1 0.1 0.1]\n",
      "W[2]:\n",
      " [[0.1 0.1 0.1 0.1]\n",
      " [0.1 0.1 0.1 0.1]\n",
      " [0.1 0.1 0.1 0.1]]\n",
      "b[2]:\n",
      " [0.1 0.1 0.1]\n",
      "W[3]:\n",
      " [[0.09289322 0.09289322 0.09289322]\n",
      " [0.11421357 0.11421357 0.11421357]\n",
      " [0.09289322 0.09289322 0.09289322]]\n",
      "b[3]:\n",
      " [0.06666667 0.16666667 0.06666667]\n"
     ]
    }
   ],
   "source": [
    "inputs = np.array([[1, 0, 1, 0]])\n",
    "labels = np.array([[0, 1, 0]])\n",
    "\n",
    "# First is input size, last is output size.\n",
    "units = [4, 4, 3, 3]\n",
    "L = len(units) - 1\n",
    "\n",
    "# Initialize weights with correct shapes\n",
    "W = [None]\n",
    "b = [None]\n",
    "\n",
    "for l in range(1, L+1):\n",
    "    W.append(np.ones((units[l], units[l-1])) * 0.1)\n",
    "    print(f\"W[{l}]:\\n\", W[l])\n",
    "    b.append(np.ones((units[l])) * 0.1)\n",
    "    print(f\"b[{l}]:\\n\", b[l])\n",
    "\n",
    "# Forward Pass\n",
    "z = [None]\n",
    "h = [inputs[0]]\n",
    "print(f\"h[0] {h[0].shape}:\\n\", h[0])\n",
    "\n",
    "for l in range(1, len(units)):\n",
    "    z.append(W[l] @ h[l-1] + b[l])\n",
    "    print(f\"z[{l}] {z[l].shape}:\\n\", z[l])\n",
    "\n",
    "    if l == L:\n",
    "        break\n",
    "\n",
    "    h.append(np.tanh(z[l]))\n",
    "    print(f\"h[{l}] {h[l].shape}:\\n\", h[l])\n",
    "\n",
    "p = np.exp(z[L]) / np.sum(np.exp(z[L]))\n",
    "y = labels[0]\n",
    "\n",
    "# Loss\n",
    "loss = - y @ np.log(p) # - y @ z[L] + np.log(np.sum(np.exp(z[L])))\n",
    "print(f\"Loss: {loss}\")\n",
    "\n",
    "# Backpropagation\n",
    "dL_dz = [None] * (L+1)\n",
    "dL_dW = [None] * (L+1)\n",
    "dL_db = [None] * (L+1)\n",
    "dL_dh = [None] * L\n",
    "\n",
    "for l in range(L, 0, -1):\n",
    "    if l == L:\n",
    "        dL_dz[L] = -y + p\n",
    "    \n",
    "    else:\n",
    "        dL_dh[l] = W[l+1].T @ dL_dz[l+1]\n",
    "        print(f\"dL/dh[{l}] {dL_dh[l].shape}:\\n\", dL_dh[l])\n",
    "\n",
    "        dL_dz[l] = dL_dh[l] * (1 - h[l]**2)\n",
    "    print(f\"dL/dz[{l}] {dL_dz[l].shape}:\\n\", dL_dz[l])\n",
    "\n",
    "    dL_dW[l] = np.outer(dL_dz[l], h[l-1])\n",
    "    print(f\"dL/dW[{l}] {dL_dW[l].shape}:\\n\", dL_dW[l])\n",
    "\n",
    "    dL_db[l] = dL_dz[l]\n",
    "    print(f\"dL/db[{l}] {dL_db[l].shape}:\\n\", dL_db[l])\n",
    "\n",
    "# Update Gradients\n",
    "eta = 0.1\n",
    "for l in range(1, L+1):\n",
    "    W[l] -= eta * dL_dW[l]\n",
    "    print(f\"W[{l}]:\\n\", W[l])\n",
    "\n",
    "    b[l] -= eta * dL_db[l]\n",
    "    print(f\"b[{l}]:\\n\", b[l])"
   ]
  },
  {
   "cell_type": "markdown",
   "metadata": {},
   "source": [
    "❓ Complete functions `forward`, `compute_loss`, `backpropagation` and `update_weights` generalized to perform the same computations as before, but for any MLP architecture."
   ]
  },
  {
   "cell_type": "code",
   "execution_count": 8,
   "metadata": {},
   "outputs": [],
   "source": [
    "'''\n",
    "x: single observation of shape (n,)\n",
    "weights: list of weight matrices [W1, W2, ...]\n",
    "biases: list of biases matrices [b1, b2, ...]\n",
    "\n",
    "y: final output\n",
    "hiddens: list of computed hidden layers [h1, h2, ...]\n",
    "'''\n",
    "\n",
    "def forward(x, weights, biases):\n",
    "    num_layers = len(weights)\n",
    "    g = np.tanh\n",
    "    hiddens = []\n",
    "\n",
    "    # compute hidden layers\n",
    "    for i in range(num_layers):\n",
    "        h = x if i == 0 else hiddens[i-1]\n",
    "        z = weights[i] @ h + biases[i]\n",
    "        if i < num_layers - 1:\n",
    "            hiddens.append(g(z))\n",
    "\n",
    "    #compute output\n",
    "    output = z\n",
    "\n",
    "    return output, hiddens\n",
    "\n",
    "def compute_loss(output, y):\n",
    "    # compute loss\n",
    "    probs = np.exp(output) / np.sum(np.exp(output))\n",
    "    loss = -y @ np.log(probs)\n",
    "    return loss\n",
    "\n",
    "def backward(x, y, output, hiddens, weights):\n",
    "    num_layers = len(weights)\n",
    "    g = np.tanh\n",
    "    z = output\n",
    "\n",
    "    probs = np.exp(output) / np.sum(np.exp(output))\n",
    "    grad_z = probs - y\n",
    "    \n",
    "    grad_weights = []\n",
    "    grad_biases = []\n",
    "    \n",
    "    # Backpropagate gradient computations\n",
    "    for i in range(num_layers-1, -1, -1):\n",
    "        # Gradient of hidden parameters.\n",
    "        h = x if i == 0 else hiddens[i-1]\n",
    "        grad_weights.append(np.outer(grad_z, h))\n",
    "        grad_biases.append(grad_z)\n",
    "\n",
    "        # Gradient of hidden layer below\n",
    "        grad_h = weights[i].T @ grad_z\n",
    "\n",
    "        # Gradient of hidden layer below before activation\n",
    "        grad_z = grad_h * (1 - h**2)\n",
    "\n",
    "    # Making gradient vectors have the correct order\n",
    "    grad_weights.reverse()\n",
    "    grad_biases.reverse()\n",
    "    return grad_weights, grad_biases"
   ]
  },
  {
   "cell_type": "markdown",
   "metadata": {},
   "source": [
    "## Question 2\n",
    "\n",
    "Now we will use the MLP on real data to classify handwritten digits.\n",
    "\n",
    "Data is loaded, split into train and test sets and target is one-hot encoded below:"
   ]
  },
  {
   "cell_type": "code",
   "execution_count": 9,
   "metadata": {},
   "outputs": [],
   "source": [
    "from sklearn.datasets import load_digits\n",
    "from sklearn.model_selection import train_test_split\n",
    "\n",
    "data = load_digits()\n",
    "\n",
    "inputs = data.data\n",
    "labels = data.target\n",
    "n, p = np.shape(inputs)\n",
    "n_classes = len(np.unique(labels))\n",
    "\n",
    "X_train, X_test, y_train, y_test = train_test_split(inputs, labels, test_size=0.2, random_state=42)\n",
    "\n",
    "# Encode labels as one-hot vectors.\n",
    "one_hot = np.zeros((np.size(y_train, 0), n_classes))\n",
    "for i in range(np.size(y_train, 0)):\n",
    "    one_hot[i, y_train[i]] = 1\n",
    "y_train_ohe = one_hot\n",
    "one_hot = np.zeros((np.size(y_test, 0), n_classes))\n",
    "for i in range(np.size(y_test, 0)):\n",
    "    one_hot[i, y_test[i]] = 1\n",
    "y_test_ohe = one_hot"
   ]
  },
  {
   "cell_type": "markdown",
   "metadata": {},
   "source": [
    "❓ Complete function `MLP_train_epoch` using your previously defined functions to compute one epoch of training using SGD:"
   ]
  },
  {
   "cell_type": "code",
   "execution_count": 10,
   "metadata": {},
   "outputs": [],
   "source": [
    "'''\n",
    "Outputs:\n",
    "    - weights: list of updated weights\n",
    "    - biases: list of updated \n",
    "    - loss: scalar of total loss (sum for all observations)\n",
    "\n",
    "'''\n",
    "\n",
    "def MLP_train_epoch(inputs, labels, weights, biases):\n",
    "    num_layers = len(weights)\n",
    "    total_loss = 0\n",
    "    \n",
    "    # For each observation and target\n",
    "    for x, y in zip(inputs, labels):\n",
    "        # Compute forward pass\n",
    "        output, hiddens = forward(x, weights, biases)\n",
    "        # Compute Loss and update total loss\n",
    "        loss = compute_loss(output, y)\n",
    "        total_loss += loss\n",
    "        # Compute backpropagation\n",
    "        grad_weights, grad_biases = backward(x, y, output, hiddens, weights)\n",
    "        # Update weights\n",
    "        for i in range(num_layers):\n",
    "            weights[i] -= eta * grad_weights[i]\n",
    "            biases[i] -= eta * grad_biases[i]\n",
    "\n",
    "    return weights, biases, total_loss"
   ]
  },
  {
   "cell_type": "markdown",
   "metadata": {},
   "source": [
    "Let's use a MLP with a single hidden layer of 50 units and a learning rate of $0.001$. \n",
    "\n",
    "❓ Run 100 epochs of your MLP. Save the loss at each epoch in a list and plot the loss evolution after training."
   ]
  },
  {
   "cell_type": "code",
   "execution_count": 11,
   "metadata": {},
   "outputs": [
    {
     "data": {
      "image/png": "[encoded data removed]",
      "text/plain": [
       "<Figure size 640x480 with 1 Axes>"
      ]
     },
     "metadata": {},
     "output_type": "display_data"
    }
   ],
   "source": [
    "# Initialize weights\n",
    "units = [p, 50, n_classes]\n",
    "weights = [0.1 * np.random.randn(units[i+1], units[i]) for i in range(len(units) - 1)]\n",
    "biases = [0.1 * np.random.randn(units[i+1]) for i in range(len(units) - 1)]\n",
    "# Empty loss list\n",
    "losses = []\n",
    "# Learning rate.\n",
    "eta = 0.001\n",
    "# Run epochs and append loss to list\n",
    "for epoch in range(100):\n",
    "    weights, biases, loss = MLP_train_epoch(X_train, y_train_ohe, weights, biases)\n",
    "    losses.append(loss)\n",
    "# Plot loss evolution\n",
    "plt.plot(losses)\n",
    "plt.show()"
   ]
  },
  {
   "cell_type": "markdown",
   "metadata": {},
   "source": [
    "❓ Complete function `MLP_predict` to get array of predictions from your trained MLP:"
   ]
  },
  {
   "cell_type": "code",
   "execution_count": 12,
   "metadata": {},
   "outputs": [],
   "source": [
    "def MLP_predict(inputs, weights, biases):\n",
    "    predicted_labels = []\n",
    "    for x in inputs:\n",
    "        # Compute forward pass and get the class with the highest probability\n",
    "        output, _ = forward(x, weights, biases)\n",
    "        y_hat = np.argmax(output)\n",
    "        predicted_labels.append(y_hat)\n",
    "    predicted_labels = np.array(predicted_labels)\n",
    "    return predicted_labels"
   ]
  },
  {
   "cell_type": "markdown",
   "metadata": {},
   "source": [
    "❓ Compute the accuracy on the train and test sets."
   ]
  },
  {
   "cell_type": "code",
   "execution_count": 13,
   "metadata": {},
   "outputs": [
    {
     "name": "stdout",
     "output_type": "stream",
     "text": [
      "Train accuracy: 1.0\n",
      "Test accuracy: 0.9777777777777777\n"
     ]
    }
   ],
   "source": [
    "y_train_pred = MLP_predict(X_train, weights, biases)\n",
    "y_test_pred = MLP_predict(X_test, weights, biases)\n",
    "\n",
    "print(f'Train accuracy: {(y_train_pred==y_train).mean()}')\n",
    "print(f'Test accuracy: {(y_test_pred==y_test).mean()}')"
   ]
  },
  {
   "cell_type": "markdown",
   "metadata": {},
   "source": [
    "We can compare our results with Sklearn's implementation of the MLP. Compare their accuracies:"
   ]
  },
  {
   "cell_type": "code",
   "execution_count": 14,
   "metadata": {},
   "outputs": [
    {
     "name": "stdout",
     "output_type": "stream",
     "text": [
      "0.9993041057759221\n",
      "0.9722222222222222\n"
     ]
    }
   ],
   "source": [
    "from sklearn.neural_network import MLPClassifier\n",
    "clf = MLPClassifier(hidden_layer_sizes=(50),\n",
    "                    activation='tanh',\n",
    "                    solver='sgd',\n",
    "                    learning_rate='constant',\n",
    "                    learning_rate_init=0.001,\n",
    "                    nesterovs_momentum=False,\n",
    "                    random_state=1,\n",
    "                    max_iter=1000)\n",
    "clf.fit(X_train, y_train)\n",
    "print(clf.score(X_train, y_train))\n",
    "print(clf.score(X_test, y_test))"
   ]
  }
 ],
 "metadata": {
  "kernelspec": {
   "display_name": "Python 3",
   "language": "python",
   "name": "python3"
  },
  "language_info": {
   "codemirror_mode": {
    "name": "ipython",
    "version": 3
   },
   "file_extension": ".py",
   "mimetype": "text/x-python",
   "name": "python",
   "nbconvert_exporter": "python",
   "pygments_lexer": "ipython3",
   "version": "3.12.3"
  }
 },
 "nbformat": 4,
 "nbformat_minor": 4
}
